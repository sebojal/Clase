{
  "nbformat": 4,
  "nbformat_minor": 0,
  "metadata": {
    "colab": {
      "provenance": [],
      "authorship_tag": "ABX9TyNQPg8ljsjA7Kwj70usmPxo",
      "include_colab_link": true
    },
    "kernelspec": {
      "name": "python3",
      "display_name": "Python 3"
    },
    "language_info": {
      "name": "python"
    }
  },
  "cells": [
    {
      "cell_type": "markdown",
      "metadata": {
        "id": "view-in-github",
        "colab_type": "text"
      },
      "source": [
        "<a href=\"https://colab.research.google.com/github/sebojal/Clase/blob/main/Tarea5.ipynb\" target=\"_parent\"><img src=\"https://colab.research.google.com/assets/colab-badge.svg\" alt=\"Open In Colab\"/></a>"
      ]
    },
    {
      "cell_type": "code",
      "execution_count": null,
      "metadata": {
        "colab": {
          "base_uri": "https://localhost:8080/"
        },
        "id": "CVqpcBjc1aNB",
        "outputId": "85c22178-004a-4c02-8e5e-a4409cffa297"
      },
      "outputs": [
        {
          "output_type": "stream",
          "name": "stdout",
          "text": [
            "[[4.87846407 0.32100211 9.66505196 2.06802943]\n",
            " [8.64743269 1.06894673 5.77223335 5.43816497]\n",
            " [3.38164145 8.76214502 6.96088407 7.88082663]\n",
            " [6.33768938 3.58551699 8.04451408 9.15816324]\n",
            " [2.13039671 7.61968527 5.00819467 6.37610633]\n",
            " [8.9881659  1.70137878 1.96649351 4.67404529]\n",
            " [4.52179454 0.36118524 9.30103056 0.8744858 ]\n",
            " [3.85608113 9.34172845 2.94161329 4.10572062]\n",
            " [2.38798363 1.50692247 3.72435097 0.89682111]\n",
            " [7.24512516 9.8232728  2.92417257 1.26318852]\n",
            " [6.71030984 0.15471541 0.34886137 4.04010562]\n",
            " [9.97729349 3.26750884 1.65166459 8.273038  ]\n",
            " [1.92433762 8.63080405 6.37591022 8.28376454]\n",
            " [2.53633869 7.12911371 1.7874111  0.58673902]\n",
            " [2.59805142 4.02955131 5.98578425 4.0273011 ]\n",
            " [8.64441421 9.87457455 4.34168313 1.81043761]\n",
            " [9.41294896 0.33557212 7.96428109 5.29567959]\n",
            " [6.03024126 9.41816043 3.19682152 1.42667961]\n",
            " [7.02214669 9.33762327 3.67891574 2.95519895]\n",
            " [0.03941384 7.65294224 5.02642205 8.72841157]\n",
            " [9.64399382 3.32370131 7.40063791 1.12339274]\n",
            " [9.14553084 6.89500539 0.48677188 9.00809713]\n",
            " [7.50671124 6.8890535  5.79689814 2.36068336]\n",
            " [7.47281784 3.17057082 6.32382801 0.29182095]\n",
            " [9.3015302  1.18556257 8.37876698 4.55242957]]\n",
            "[6.01363418 5.01544974 5.00212788 4.21997325]\n"
          ]
        }
      ],
      "source": [
        "import numpy as np\n",
        "\n",
        "#Abriendo el archivo csv y guardandolo en el arreglo\n",
        "matrix = np.genfromtxt(\"/content/datos_olas.csv\" ,delimiter = ',', skip_header=1 ,usecols = 2)\n",
        "matrix.shape = (25,4)\n",
        "print(matrix) #Muestra la matriz, cada columna representa un punto del parque"
      ]
    },
    {
      "cell_type": "code",
      "source": [
        "#Calculando los promedios y guardandolos en una matriz de (1, 4)\n",
        "promedios = np.mean(matrix, axis = 0)\n",
        "print(promedios)\n",
        "for i in range(4):\n",
        "  #Imprimimos usando el codigo ASCII para hacerlo más simple\n",
        "  print(f\"El promedio en el punto {chr(65+i)} es:\", promedios[i])"
      ],
      "metadata": {
        "colab": {
          "base_uri": "https://localhost:8080/"
        },
        "id": "rCrvAaTfuCKJ",
        "outputId": "1e9cd656-ccfe-41ca-bcb9-dd7fbd07a78a"
      },
      "execution_count": 8,
      "outputs": [
        {
          "output_type": "stream",
          "name": "stdout",
          "text": [
            "[6.01363418 5.01544974 5.00212788 4.21997325]\n",
            "El promedio en el punto A es: 6.013634184431512\n",
            "El promedio en el punto B es: 5.015449735938172\n",
            "El promedio en el punto C es: 5.002127881286767\n",
            "El promedio en el punto D es: 4.219973252747889\n"
          ]
        }
      ]
    },
    {
      "cell_type": "code",
      "source": [
        "#Calculando la altura máxima en cada punto:\n",
        "alturas_max = np.max(matrix, axis = 0)\n",
        "print(alturas_max)\n",
        "for i in range(4):\n",
        "  print(f\"La altura máxima en el punto {chr(65+i)} es:\", alturas_max[i])"
      ],
      "metadata": {
        "colab": {
          "base_uri": "https://localhost:8080/"
        },
        "id": "WBVuogekv8Aa",
        "outputId": "efde7fca-8cb7-44e6-cc7f-d0c07f12a2db"
      },
      "execution_count": 9,
      "outputs": [
        {
          "output_type": "stream",
          "name": "stdout",
          "text": [
            "[9.97729349 9.87457455 9.66505196 9.15816324]\n",
            "La altura máxima en el punto A es: 9.977293486806257\n",
            "La altura máxima en el punto B es: 9.874574551710007\n",
            "La altura máxima en el punto C es: 9.665051956287837\n",
            "La altura máxima en el punto D es: 9.15816323638438\n"
          ]
        }
      ]
    },
    {
      "cell_type": "code",
      "source": [
        "#Calculando la desviacion estandar en cada punto\n",
        "desviaciones_estandar = np.std(matrix, axis = 0)\n",
        "print(desviaciones_estandar)\n",
        "for i in range(4):\n",
        "  print(f\"La desviacion estandar en el punto {chr(65+i)} es:\", desviaciones_estandar[i])"
      ],
      "metadata": {
        "colab": {
          "base_uri": "https://localhost:8080/"
        },
        "id": "jBEF62UtwFmZ",
        "outputId": "dddf0e5d-fcdd-469f-8554-8dc8ae74510a"
      },
      "execution_count": 10,
      "outputs": [
        {
          "output_type": "stream",
          "name": "stdout",
          "text": [
            "[2.90341844 3.52685106 2.63462491 2.92687097]\n",
            "La desviacion estandar en el punto A es: 2.903418443995361\n",
            "La desviacion estandar en el punto B es: 3.5268510593015523\n",
            "La desviacion estandar en el punto C es: 2.6346249141939784\n",
            "La desviacion estandar en el punto D es: 2.9268709653745444\n"
          ]
        }
      ]
    },
    {
      "cell_type": "code",
      "source": [
        "#Encontrar el punto del parque con la altura promedio más alta y mostrar su promedio\n",
        "punto_max = np.argmax(promedios)\n",
        "print(f\"El punto con la altura promedio más alta es: {chr(65+punto_max)}\")"
      ],
      "metadata": {
        "colab": {
          "base_uri": "https://localhost:8080/"
        },
        "id": "SEGC8hgcwTQw",
        "outputId": "8ab25fea-9d9e-4da5-9cb8-4129e945cae6"
      },
      "execution_count": 11,
      "outputs": [
        {
          "output_type": "stream",
          "name": "stdout",
          "text": [
            "El punto con la altura promedio más alta es: A\n"
          ]
        }
      ]
    },
    {
      "cell_type": "code",
      "source": [
        "#Encontrando el dia con la altura maxima observada\n",
        "altura_max = np.max(matrix)\n",
        "#Encontrando el indice\n",
        "index_max = np.where(matrix == altura_max)\n",
        "print(f\"El dia con la altura maxima observada es: {index_max[0][0]} y la altura máxima correspondiente es: {altura_max}\")"
      ],
      "metadata": {
        "colab": {
          "base_uri": "https://localhost:8080/"
        },
        "id": "M7RgV1B5xK1Y",
        "outputId": "98279bf5-3375-4e8a-9eac-f9bfab047c7e"
      },
      "execution_count": 19,
      "outputs": [
        {
          "output_type": "stream",
          "name": "stdout",
          "text": [
            "El dia con la altura maxima observada es: 11 y la altura máxima correspondiente es: 9.977293486806257\n"
          ]
        }
      ]
    },
    {
      "cell_type": "code",
      "source": [
        "#Guardando los resultados en un arreglo\n",
        "resultados = np.array([promedios, alturas_max, desviaciones_estandar])\n",
        "print(resultados)\n",
        "np.savetxt('resultados_olas.txt', resultados, delimiter=',', fmt='%.2f', header='Promedios', comments='')\n"
      ],
      "metadata": {
        "colab": {
          "base_uri": "https://localhost:8080/"
        },
        "id": "YFOCwN3uyslS",
        "outputId": "9c18b111-a9f8-4b84-92b3-ddaba04fddcd"
      },
      "execution_count": 20,
      "outputs": [
        {
          "output_type": "stream",
          "name": "stdout",
          "text": [
            "[[6.01363418 5.01544974 5.00212788 4.21997325]\n",
            " [9.97729349 9.87457455 9.66505196 9.15816324]\n",
            " [2.90341844 3.52685106 2.63462491 2.92687097]]\n"
          ]
        }
      ]
    }
  ]
}