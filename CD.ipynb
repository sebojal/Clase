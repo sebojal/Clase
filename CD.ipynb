{
  "nbformat": 4,
  "nbformat_minor": 0,
  "metadata": {
    "colab": {
      "provenance": [],
      "authorship_tag": "ABX9TyMQB5MHQ6vsfkGLbMJj4Ofi",
      "include_colab_link": true
    },
    "kernelspec": {
      "name": "python3",
      "display_name": "Python 3"
    },
    "language_info": {
      "name": "python"
    }
  },
  "cells": [
    {
      "cell_type": "markdown",
      "metadata": {
        "id": "view-in-github",
        "colab_type": "text"
      },
      "source": [
        "<a href=\"https://colab.research.google.com/github/sebojal/Clase/blob/main/CD.ipynb\" target=\"_parent\"><img src=\"https://colab.research.google.com/assets/colab-badge.svg\" alt=\"Open In Colab\"/></a>"
      ]
    },
    {
      "cell_type": "markdown",
      "source": [
        "\n",
        "\n",
        "```\n",
        "# This is formatted as code\n",
        "```\n",
        "\n"
      ],
      "metadata": {
        "id": "hv0JZv67Yl7v"
      }
    },
    {
      "cell_type": "code",
      "execution_count": null,
      "metadata": {
        "colab": {
          "base_uri": "https://localhost:8080/"
        },
        "id": "nyB0CQc6YU9E",
        "outputId": "470bf6a4-9c6c-4733-9271-58515b18d142"
      },
      "outputs": [
        {
          "output_type": "stream",
          "name": "stdout",
          "text": [
            "Dime un numero: 1\n",
            "Dime un numero: 2\n",
            "Dime un numero: 3\n",
            "Dime un numero: 4\n",
            "Dime un numero: 5\n",
            "Dime un numero: 6\n",
            "Dime un numero: 7\n",
            "Dime un numero: 8\n",
            "Dime un numero: 9\n",
            "Dime un numero: 10\n",
            "[1, 2, 3, 4, 5, 6, 7, 8, 9, 10]\n",
            "[-1, -2, -3, -4, -5, -6, -7, -8, -9, -10]\n"
          ]
        }
      ],
      "source": [
        "array = list()\n",
        "arreglo = []\n",
        "\n",
        "for i in range(10):\n",
        "  numero = int(input(\"Dime un numero: \"))\n",
        "  array.append(numero)\n",
        "  #El append lo añade al final, mientras el array.insert lo añade en donde yo especifique\n",
        "  #Se puede borrar con .remove (donde especifico) y con .pop (al final)\n",
        "  arreglo.append(-1*numero)\n",
        "\n",
        "print(array)\n",
        "print(arreglo)"
      ]
    },
    {
      "cell_type": "code",
      "source": [
        "diccionario = dict()\n",
        "dictionary = {}\n",
        "#Es lo mismo usar dict y {}\n",
        "\n",
        "for i in range(10):\n",
        "  numero = int(input(\"Dime un numero: \"))\n",
        "  diccionario[numero] = i\n",
        "  dictionary[numero] = -1*i\n",
        "\n",
        "print(diccionario)\n",
        "print(dictionary)\n"
      ],
      "metadata": {
        "colab": {
          "base_uri": "https://localhost:8080/"
        },
        "id": "B2Dbxv9wbXfc",
        "outputId": "3d4eed50-5126-4852-b61f-0b680183105a"
      },
      "execution_count": null,
      "outputs": [
        {
          "output_type": "stream",
          "name": "stdout",
          "text": [
            "Dime un numero: 2\n",
            "Dime un numero: 3\n",
            "Dime un numero: 4\n",
            "Dime un numero: 5\n",
            "Dime un numero: 6\n",
            "Dime un numero: 7\n",
            "Dime un numero: 9\n",
            "Dime un numero: 8\n",
            "Dime un numero: 10\n",
            "Dime un numero: 4\n",
            "{2: 0, 3: 1, 4: 9, 5: 3, 6: 4, 7: 5, 9: 6, 8: 7, 10: 8}\n",
            "{2: 0, 3: -1, 4: -9, 5: -3, 6: -4, 7: -5, 9: -6, 8: -7, 10: -8}\n"
          ]
        }
      ]
    },
    {
      "cell_type": "markdown",
      "source": [
        "Usando Numpy"
      ],
      "metadata": {
        "id": "S9_P3Mk6Y4X8"
      }
    },
    {
      "cell_type": "code",
      "source": [
        "import numpy as np\n",
        "\n",
        "a = np.array([[1,2,3,4],[5,6,7,8],[9,10,11,12]])\n",
        "a"
      ],
      "metadata": {
        "colab": {
          "base_uri": "https://localhost:8080/"
        },
        "id": "XB9eByIBY60p",
        "outputId": "828720d3-48ec-44ef-95f8-98623fbbdf3f"
      },
      "execution_count": 6,
      "outputs": [
        {
          "output_type": "execute_result",
          "data": {
            "text/plain": [
              "array([[ 1,  2,  3,  4],\n",
              "       [ 5,  6,  7,  8],\n",
              "       [ 9, 10, 11, 12]])"
            ]
          },
          "metadata": {},
          "execution_count": 6
        }
      ]
    },
    {
      "cell_type": "code",
      "source": [
        "a.shape"
      ],
      "metadata": {
        "colab": {
          "base_uri": "https://localhost:8080/"
        },
        "id": "Ls8hqMrDaKBU",
        "outputId": "31e4387f-90fa-4134-dcae-5b7d5043aa0d"
      },
      "execution_count": 7,
      "outputs": [
        {
          "output_type": "execute_result",
          "data": {
            "text/plain": [
              "(3, 4)"
            ]
          },
          "metadata": {},
          "execution_count": 7
        }
      ]
    },
    {
      "cell_type": "code",
      "source": [
        "a.dtype #nos da el tipo de dato del arreglo"
      ],
      "metadata": {
        "colab": {
          "base_uri": "https://localhost:8080/"
        },
        "id": "fT8nZCcjaNMp",
        "outputId": "86b773ee-8c2b-48ad-a89f-987fc4387030"
      },
      "execution_count": 14,
      "outputs": [
        {
          "output_type": "execute_result",
          "data": {
            "text/plain": [
              "dtype('int64')"
            ]
          },
          "metadata": {},
          "execution_count": 14
        }
      ]
    },
    {
      "cell_type": "code",
      "source": [
        "#Para agarrar ciertos cachos del arreglo usamos notacion de tuplas, [inicio:fin, inicio:fin]\n",
        "\n",
        "a[:2,1:]\n",
        "a[0:3,0:3]"
      ],
      "metadata": {
        "colab": {
          "base_uri": "https://localhost:8080/"
        },
        "id": "BMiWAs7gaefd",
        "outputId": "73af25fc-60c7-4508-8448-7902ff658d26"
      },
      "execution_count": 12,
      "outputs": [
        {
          "output_type": "execute_result",
          "data": {
            "text/plain": [
              "array([[ 1,  2,  3],\n",
              "       [ 5,  6,  7],\n",
              "       [ 9, 10, 11]])"
            ]
          },
          "metadata": {},
          "execution_count": 12
        }
      ]
    },
    {
      "cell_type": "code",
      "source": [
        "b = a #shallow copy (crea un puntero b, que apunta a a)\n",
        "\n",
        "b[2,3] = 2024 #Hacemos un cambio para mostrar el shallow copy\n",
        "\n",
        "b"
      ],
      "metadata": {
        "colab": {
          "base_uri": "https://localhost:8080/"
        },
        "id": "2TfaGOaQbdpd",
        "outputId": "e22ca251-9499-4352-9d35-31627448cdf4"
      },
      "execution_count": 15,
      "outputs": [
        {
          "output_type": "execute_result",
          "data": {
            "text/plain": [
              "array([[   1,    2,    3,    4],\n",
              "       [   5,    6,    7,    8],\n",
              "       [   9,   10,   11, 2024]])"
            ]
          },
          "metadata": {},
          "execution_count": 15
        }
      ]
    },
    {
      "cell_type": "code",
      "source": [
        "c = np.copy(a) #Deep copy, crea un espacio de memoria para el arreglo c, y copia los datos de a en c\n",
        "\n",
        "c"
      ],
      "metadata": {
        "colab": {
          "base_uri": "https://localhost:8080/"
        },
        "id": "wsoK_fS8b4qM",
        "outputId": "cc5044a7-7708-4754-abae-12c2745a1490"
      },
      "execution_count": 16,
      "outputs": [
        {
          "output_type": "execute_result",
          "data": {
            "text/plain": [
              "array([[   1,    2,    3,    4],\n",
              "       [   5,    6,    7,    8],\n",
              "       [   9,   10,   11, 2024]])"
            ]
          },
          "metadata": {},
          "execution_count": 16
        }
      ]
    },
    {
      "cell_type": "code",
      "source": [
        "d = np.ones((3,5))\n",
        "\n",
        "d[2,3] = 25\n",
        "d"
      ],
      "metadata": {
        "colab": {
          "base_uri": "https://localhost:8080/"
        },
        "id": "kwnlLTD2cRkK",
        "outputId": "6896234e-0b0c-405f-bd29-a6c0a81f6bcf"
      },
      "execution_count": 20,
      "outputs": [
        {
          "output_type": "execute_result",
          "data": {
            "text/plain": [
              "array([[ 1.,  1.,  1.,  1.,  1.],\n",
              "       [ 1.,  1.,  1.,  1.,  1.],\n",
              "       [ 1.,  1.,  1., 25.,  1.]])"
            ]
          },
          "metadata": {},
          "execution_count": 20
        }
      ]
    },
    {
      "cell_type": "code",
      "source": [
        "e = np.zeros((3,5))\n",
        "e"
      ],
      "metadata": {
        "colab": {
          "base_uri": "https://localhost:8080/"
        },
        "id": "Q1jKfsHtc3rY",
        "outputId": "b0d3acf2-0e1d-4743-c311-62d42c7dae00"
      },
      "execution_count": 21,
      "outputs": [
        {
          "output_type": "execute_result",
          "data": {
            "text/plain": [
              "array([[0., 0., 0., 0., 0.],\n",
              "       [0., 0., 0., 0., 0.],\n",
              "       [0., 0., 0., 0., 0.]])"
            ]
          },
          "metadata": {},
          "execution_count": 21
        }
      ]
    },
    {
      "cell_type": "code",
      "source": [
        "f = np.random.randint(7,24, size = (3,5))\n",
        "f"
      ],
      "metadata": {
        "colab": {
          "base_uri": "https://localhost:8080/"
        },
        "id": "nZCWjCnAdKjh",
        "outputId": "7795e356-b36d-4c21-a505-a5cb6911e5b1"
      },
      "execution_count": 27,
      "outputs": [
        {
          "output_type": "execute_result",
          "data": {
            "text/plain": [
              "array([[20, 14, 23, 14, 15],\n",
              "       [19, 15, 14, 15, 20],\n",
              "       [16, 10, 23, 22, 15]])"
            ]
          },
          "metadata": {},
          "execution_count": 27
        }
      ]
    },
    {
      "cell_type": "code",
      "source": [
        "f = (np.random.random(size = (3,5)))*100\n",
        "f"
      ],
      "metadata": {
        "colab": {
          "base_uri": "https://localhost:8080/"
        },
        "id": "RHGIA3-Vd8R9",
        "outputId": "a95028c4-b602-43f2-f06c-eea21aa94ec1"
      },
      "execution_count": 28,
      "outputs": [
        {
          "output_type": "execute_result",
          "data": {
            "text/plain": [
              "array([[ 8.17740262, 28.96277183, 86.36205561, 36.85464913, 24.23939147],\n",
              "       [81.76748901, 39.09739979, 89.96901963, 62.35547179, 81.45646661],\n",
              "       [48.4659707 , 89.40013019, 80.41610097, 57.35735079,  6.90921267]])"
            ]
          },
          "metadata": {},
          "execution_count": 28
        }
      ]
    },
    {
      "cell_type": "code",
      "source": [
        "#otras opciones de importar funciones de numpy\n",
        "from numpy import asarray\n",
        "from numpy import savetxt\n",
        "\n",
        "np.savetxt(\"ejemplo.txt\", f, delimiter= \",\") #se guarda el arreglo como un archivo csv\n"
      ],
      "metadata": {
        "id": "BNdmoBHrf_vR"
      },
      "execution_count": 30,
      "outputs": []
    },
    {
      "cell_type": "markdown",
      "source": [
        "Para cargar archivos csv (como de excel), los drageamos a la parte de files."
      ],
      "metadata": {
        "id": "x5WI0Q7GhIUL"
      }
    },
    {
      "cell_type": "code",
      "source": [],
      "metadata": {
        "id": "jnsWGq9shqRD"
      },
      "execution_count": null,
      "outputs": []
    }
  ]
}